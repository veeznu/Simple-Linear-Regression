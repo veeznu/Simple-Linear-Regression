{
  "nbformat": 4,
  "nbformat_minor": 0,
  "metadata": {
    "colab": {
      "name": "Simple Linear Regression",
      "version": "0.3.2",
      "provenance": []
    },
    "kernelspec": {
      "name": "python3",
      "display_name": "Python 3"
    }
  },
  "cells": [
    {
      "cell_type": "code",
      "metadata": {
        "id": "1zn5578xgXut",
        "colab_type": "code",
        "colab": {}
      },
      "source": [
        ""
      ],
      "execution_count": 0,
      "outputs": []
    },
    {
      "cell_type": "code",
      "metadata": {
        "id": "kY_kxfZ4WU8N",
        "colab_type": "code",
        "colab": {}
      },
      "source": [
        "from sklearn import linear_model\n",
        "from sklearn.metrics import mean_squared_error, r2_score\n",
        "\n",
        "x_train = [[1],[2],[3],[4],[5]]\n",
        "y_train = [[2],[4],[6],[8],[10]]\n",
        "\n",
        "regress = linear_model.LinearRegression()\n",
        "\n",
        "regress.fit(x_train,y_train)\n",
        "\n",
        "x_test = [[3],[5],[7],[9]]\n",
        "y_test = regress.predict(x_test)\n",
        "\n",
        "print(x_test)\n",
        "print(y_test)\n",
        "#doesnt work D: ----> print(\"y= {:.3}x + {:.3}\".format(regress.coef_[0],regress.intercept_))"
      ],
      "execution_count": 0,
      "outputs": []
    }
  ]
}